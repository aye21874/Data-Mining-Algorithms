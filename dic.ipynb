{
 "cells": [
  {
   "cell_type": "code",
   "execution_count": 751,
   "metadata": {},
   "outputs": [],
   "source": [
    "import numpy as np\n",
    "import pandas as pd"
   ]
  },
  {
   "cell_type": "code",
   "execution_count": 752,
   "metadata": {},
   "outputs": [],
   "source": [
    "df = pd.read_excel(r'D:\\Desktop\\db.xlsx')"
   ]
  },
  {
   "cell_type": "code",
   "execution_count": 753,
   "metadata": {},
   "outputs": [
    {
     "name": "stdout",
     "output_type": "stream",
     "text": [
      "         trans\n",
      "0     I1,I2,I5\n",
      "1        I2,I4\n",
      "2        I2,I3\n",
      "3     I1,I2,I4\n",
      "4        I1,I3\n",
      "5        I2,I3\n",
      "6        I1,I3\n",
      "7  I1,I2,I3,I5\n",
      "8     I1,I2,I3\n"
     ]
    }
   ],
   "source": [
    "print(df)"
   ]
  },
  {
   "cell_type": "code",
   "execution_count": 770,
   "metadata": {},
   "outputs": [],
   "source": [
    "#change the values\n",
    "dc = {\"I1\",\"I2\",\"I3\",\"I4\",\"I5\"}\n",
    "db = set()\n",
    "sc = set()\n",
    "sb = set()\n",
    "dc_bank = set()"
   ]
  },
  {
   "cell_type": "code",
   "execution_count": 771,
   "metadata": {},
   "outputs": [],
   "source": [
    "#change these values\n",
    "csn = {\n",
    "    \"I1\" : 0,\n",
    "    \"I2\" : 0,\n",
    "    \"I3\" : 0,\n",
    "    \"I4\" : 0,\n",
    "    \"I5\" : 0\n",
    "}\n",
    "count = {\n",
    "    \"I1\" : 0,\n",
    "    \"I2\" : 0,\n",
    "    \"I3\" : 0,\n",
    "    \"I4\" : 0,\n",
    "    \"I5\" : 0\n",
    "}"
   ]
  },
  {
   "cell_type": "code",
   "execution_count": 772,
   "metadata": {},
   "outputs": [],
   "source": [
    "#initial values\n",
    "m = 4\n",
    "curr_sn = 0\n",
    "left = 0\n",
    "right = m\n",
    "min_supp = 2"
   ]
  },
  {
   "cell_type": "code",
   "execution_count": 773,
   "metadata": {},
   "outputs": [
    {
     "name": "stdout",
     "output_type": "stream",
     "text": [
      "*********************************\n",
      "count of each item::\n",
      "{'I1': 2, 'I2': 4, 'I3': 1, 'I4': 2, 'I5': 1}\n",
      "CSN:: 1\n",
      "DASHED BOX:: {'I2', 'I4', 'I1'}\n",
      "DASHED CIRCLE:: {'I1,I2', 'I1,I4', 'I5', 'I3', 'I2,I4'}\n",
      "stop numbers::\n",
      "{'I1': 0, 'I2': 0, 'I3': 0, 'I4': 0, 'I5': 0, 'I1,I2': 1, 'I1,I4': 1, 'I2,I4': 1}\n",
      "SOLID BOX:: set()\n",
      "SOLID CIRCLE:: set()\n",
      "DASHED BOX:: {'I2', 'I4', 'I1'}\n",
      "DASHED CIRCLE:: {'I1,I2', 'I1,I4', 'I5', 'I3', 'I2,I4'}\n",
      "*********************************\n",
      "count of each item::\n",
      "{'I3': 5, 'I5': 2, 'I1,I2': 1, 'I1,I4': 0, 'I2,I4': 0}\n",
      "CSN:: 2\n",
      "DASHED BOX:: {'I5', 'I3', 'I2', 'I4', 'I1'}\n",
      "DASHED CIRCLE:: {'I1,I4', 'I2,I5', 'I3,I4', 'I4,I5', 'I2,I4', 'I1,I3', 'I2,I3', 'I1,I2', 'I1,I5', 'I3,I5'}\n",
      "stop numbers::\n",
      "{'I1': 0, 'I2': 0, 'I3': 0, 'I4': 0, 'I5': 0, 'I1,I2': 1, 'I1,I4': 1, 'I2,I4': 1, 'I1,I3': 2, 'I1,I5': 2, 'I2,I3': 2, 'I2,I5': 2, 'I3,I4': 2, 'I3,I5': 2, 'I4,I5': 2}\n",
      "SOLID BOX:: set()\n",
      "SOLID CIRCLE:: set()\n",
      "DASHED BOX:: {'I2', 'I4', 'I5', 'I3', 'I1'}\n",
      "DASHED CIRCLE:: {'I1,I4', 'I2,I5', 'I3,I4', 'I4,I5', 'I2,I4', 'I1,I3', 'I2,I3', 'I1,I2', 'I1,I5', 'I3,I5'}\n",
      "*********************************\n",
      "count of each item::\n",
      "{'I1,I2': 2, 'I1,I4': 0, 'I2,I4': 0, 'I1,I3': 1, 'I1,I5': 0, 'I2,I3': 1, 'I2,I5': 0, 'I3,I4': 0, 'I3,I5': 0, 'I4,I5': 0}\n",
      "CSN:: 0\n",
      "DASHED BOX:: {'I1,I2', 'I2', 'I4', 'I5', 'I3', 'I1'}\n",
      "DASHED CIRCLE:: {'I1,I4', 'I2,I5', 'I3,I4', 'I4,I5', 'I2,I4', 'I1,I3', 'I2,I3', 'I1,I5', 'I3,I5'}\n",
      "stop numbers::\n",
      "{'I1': 0, 'I2': 0, 'I3': 0, 'I4': 0, 'I5': 0, 'I1,I2': 1, 'I1,I4': 1, 'I2,I4': 1, 'I1,I3': 2, 'I1,I5': 2, 'I2,I3': 2, 'I2,I5': 2, 'I3,I4': 2, 'I3,I5': 2, 'I4,I5': 2}\n",
      "SOLID BOX:: {'I5', 'I3', 'I2', 'I4', 'I1'}\n",
      "SOLID CIRCLE:: set()\n",
      "DASHED BOX:: {'I1,I2'}\n",
      "DASHED CIRCLE:: {'I1,I4', 'I2,I5', 'I3,I4', 'I4,I5', 'I2,I4', 'I1,I3', 'I2,I3', 'I1,I5', 'I3,I5'}\n",
      "*********************************\n",
      "count of each item::\n",
      "{'I1,I4': 1, 'I2,I4': 2, 'I1,I3': 1, 'I1,I5': 1, 'I2,I3': 2, 'I2,I5': 1, 'I3,I4': 0, 'I3,I5': 0, 'I4,I5': 0}\n",
      "CSN:: 1\n",
      "DASHED BOX:: {'I1,I2', 'I2,I4', 'I2,I3'}\n",
      "DASHED CIRCLE:: {'I2,I5', 'I3,I4', 'I4,I5', 'I1,I3', 'I2,I3,I4', 'I1,I5', 'I3,I5'}\n",
      "stop numbers::\n",
      "{'I1,I2': 1, 'I2,I4': 1, 'I1,I3': 2, 'I1,I5': 2, 'I2,I3': 2, 'I2,I5': 2, 'I3,I4': 2, 'I3,I5': 2, 'I4,I5': 2, 'I2,I3,I4': 1}\n",
      "SOLID BOX:: {'I5', 'I3', 'I2,I4', 'I1,I2', 'I2', 'I4', 'I1'}\n",
      "SOLID CIRCLE:: {'I1,I4'}\n",
      "DASHED BOX:: {'I2,I3'}\n",
      "DASHED CIRCLE:: {'I2,I5', 'I3,I4', 'I4,I5', 'I1,I3', 'I2,I3,I4', 'I1,I5', 'I3,I5'}\n",
      "*********************************\n",
      "count of each item::\n",
      "{'I1,I3': 4, 'I1,I5': 2, 'I2,I5': 2, 'I3,I4': 0, 'I3,I5': 1, 'I4,I5': 0, 'I2,I3,I4': 0}\n",
      "CSN:: 2\n",
      "DASHED BOX:: {'I1,I5', 'I1,I3', 'I2,I3', 'I2,I5'}\n",
      "DASHED CIRCLE:: {'I1,I2,I5', 'I1,I3,I5', 'I1,I2,I3', 'I2,I3,I4', 'I2,I4,I5', 'I2,I3,I5'}\n",
      "stop numbers::\n",
      "{'I1,I3': 2, 'I1,I5': 2, 'I2,I3': 2, 'I2,I5': 2, 'I2,I3,I4': 1, 'I1,I2,I3': 2, 'I1,I2,I5': 2, 'I1,I3,I5': 2, 'I2,I3,I5': 2, 'I2,I4,I5': 2}\n",
      "SOLID BOX:: {'I5', 'I3', 'I2,I5', 'I2,I4', 'I1,I3', 'I2,I3', 'I1,I2', 'I2', 'I4', 'I1', 'I1,I5'}\n",
      "SOLID CIRCLE:: {'I4,I5', 'I1,I4', 'I3,I5', 'I3,I4'}\n",
      "DASHED BOX:: set()\n",
      "DASHED CIRCLE:: {'I1,I2,I5', 'I1,I3,I5', 'I1,I2,I3', 'I2,I3,I4', 'I2,I4,I5', 'I2,I3,I5'}\n",
      "*********************************\n",
      "count of each item::\n",
      "{'I2,I3,I4': 0, 'I1,I2,I3': 1, 'I1,I2,I5': 0, 'I1,I3,I5': 0, 'I2,I3,I5': 0, 'I2,I4,I5': 0}\n",
      "CSN:: 0\n",
      "DASHED BOX:: set()\n",
      "DASHED CIRCLE:: {'I1,I2,I5', 'I1,I3,I5', 'I1,I2,I3', 'I2,I3,I4', 'I2,I4,I5', 'I2,I3,I5'}\n",
      "stop numbers::\n",
      "{'I2,I3,I4': 1, 'I1,I2,I3': 2, 'I1,I2,I5': 2, 'I1,I3,I5': 2, 'I2,I3,I5': 2, 'I2,I4,I5': 2}\n",
      "SOLID BOX:: {'I5', 'I3', 'I2,I5', 'I2,I4', 'I1,I3', 'I2,I3', 'I1,I2', 'I2', 'I4', 'I1', 'I1,I5'}\n",
      "SOLID CIRCLE:: {'I4,I5', 'I1,I4', 'I3,I5', 'I3,I4'}\n",
      "DASHED BOX:: set()\n",
      "DASHED CIRCLE:: {'I1,I2,I5', 'I1,I3,I5', 'I1,I2,I3', 'I2,I3,I4', 'I2,I4,I5', 'I2,I3,I5'}\n",
      "*********************************\n",
      "count of each item::\n",
      "{'I2,I3,I4': 0, 'I1,I2,I3': 1, 'I1,I2,I5': 1, 'I1,I3,I5': 0, 'I2,I3,I5': 0, 'I2,I4,I5': 0}\n",
      "CSN:: 1\n",
      "DASHED BOX:: set()\n",
      "DASHED CIRCLE:: {'I1,I2,I5', 'I1,I3,I5', 'I1,I2,I3', 'I2,I4,I5', 'I2,I3,I5'}\n",
      "stop numbers::\n",
      "{'I1,I2,I3': 2, 'I1,I2,I5': 2, 'I1,I3,I5': 2, 'I2,I3,I5': 2, 'I2,I4,I5': 2}\n",
      "SOLID BOX:: {'I5', 'I3', 'I2,I5', 'I2,I4', 'I1,I3', 'I2,I3', 'I1,I2', 'I2', 'I4', 'I1', 'I1,I5'}\n",
      "SOLID CIRCLE:: {'I1,I4', 'I3,I4', 'I4,I5', 'I2,I3,I4', 'I3,I5'}\n",
      "DASHED BOX:: set()\n",
      "DASHED CIRCLE:: {'I1,I2,I5', 'I1,I3,I5', 'I1,I2,I3', 'I2,I4,I5', 'I2,I3,I5'}\n",
      "*********************************\n",
      "count of each item::\n",
      "{'I1,I2,I3': 2, 'I1,I2,I5': 2, 'I1,I3,I5': 1, 'I2,I3,I5': 1, 'I2,I4,I5': 0}\n",
      "CSN:: 2\n",
      "DASHED BOX:: {'I1,I2,I5', 'I1,I2,I3'}\n",
      "DASHED CIRCLE:: {'I1,I2,I3,I5'}\n",
      "stop numbers::\n",
      "{'I1,I2,I3': 2, 'I1,I2,I5': 2, 'I1,I2,I3,I5': 2}\n",
      "SOLID BOX:: {'I5', 'I3', 'I2,I5', 'I1,I2,I5', 'I2,I4', 'I1,I3', 'I2,I3', 'I1,I2', 'I2', 'I4', 'I1', 'I1,I2,I3', 'I1,I5'}\n",
      "SOLID CIRCLE:: {'I1,I4', 'I1,I3,I5', 'I3,I4', 'I4,I5', 'I2,I3,I4', 'I2,I4,I5', 'I2,I3,I5', 'I3,I5'}\n",
      "DASHED BOX:: set()\n",
      "DASHED CIRCLE:: {'I1,I2,I3,I5'}\n",
      "*********************************\n",
      "count of each item::\n",
      "{'I1,I2,I3,I5': 0}\n",
      "CSN:: 0\n",
      "DASHED BOX:: set()\n",
      "DASHED CIRCLE:: {'I1,I2,I3,I5'}\n",
      "stop numbers::\n",
      "{'I1,I2,I3,I5': 2}\n",
      "SOLID BOX:: {'I5', 'I3', 'I2,I5', 'I1,I2,I5', 'I2,I4', 'I1,I3', 'I2,I3', 'I1,I2', 'I2', 'I4', 'I1', 'I1,I2,I3', 'I1,I5'}\n",
      "SOLID CIRCLE:: {'I1,I4', 'I1,I3,I5', 'I3,I4', 'I4,I5', 'I2,I3,I4', 'I2,I4,I5', 'I2,I3,I5', 'I3,I5'}\n",
      "DASHED BOX:: set()\n",
      "DASHED CIRCLE:: {'I1,I2,I3,I5'}\n",
      "*********************************\n",
      "count of each item::\n",
      "{'I1,I2,I3,I5': 0}\n",
      "CSN:: 1\n",
      "DASHED BOX:: set()\n",
      "DASHED CIRCLE:: {'I1,I2,I3,I5'}\n",
      "stop numbers::\n",
      "{'I1,I2,I3,I5': 2}\n",
      "SOLID BOX:: {'I5', 'I3', 'I2,I5', 'I1,I2,I5', 'I2,I4', 'I1,I3', 'I2,I3', 'I1,I2', 'I2', 'I4', 'I1', 'I1,I2,I3', 'I1,I5'}\n",
      "SOLID CIRCLE:: {'I1,I4', 'I1,I3,I5', 'I3,I4', 'I4,I5', 'I2,I3,I4', 'I2,I4,I5', 'I2,I3,I5', 'I3,I5'}\n",
      "DASHED BOX:: set()\n",
      "DASHED CIRCLE:: {'I1,I2,I3,I5'}\n",
      "*********************************\n",
      "count of each item::\n",
      "{'I1,I2,I3,I5': 1}\n",
      "CSN:: 2\n",
      "DASHED BOX:: set()\n",
      "DASHED CIRCLE:: set()\n",
      "stop numbers::\n",
      "{}\n",
      "SOLID BOX:: {'I5', 'I3', 'I2,I5', 'I1,I2,I5', 'I2,I4', 'I1,I3', 'I2,I3', 'I1,I2', 'I2', 'I4', 'I1', 'I1,I2,I3', 'I1,I5'}\n",
      "SOLID CIRCLE:: {'I1,I4', 'I1,I3,I5', 'I3,I4', 'I4,I5', 'I1,I2,I3,I5', 'I2,I3,I4', 'I2,I4,I5', 'I2,I3,I5', 'I3,I5'}\n",
      "DASHED BOX:: set()\n",
      "DASHED CIRCLE:: set()\n"
     ]
    }
   ],
   "source": [
    "while dc:\n",
    "    #change the 6 =  no of transactions\n",
    "    for ind in range(left,min(right,9)):\n",
    "        l4 = df.iloc[ind].tolist()\n",
    "        l4 = \"\".join(l4)\n",
    "        l4 = l4.split(',')\n",
    "        for ele in sorted(dc):\n",
    "            l3 = ele.split(',')\n",
    "            #print(l3,l4)\n",
    "            if(set(l3).issubset(set(l4))):\n",
    "                count[ele] += 1\n",
    "    print(\"*********************************\")            \n",
    "    print(\"count of each item::\")                \n",
    "    print(count)\n",
    "    curr_sn +=1\n",
    "    #ALWAYS CHECK THE MOD!!\n",
    "    curr_sn = curr_sn%3\n",
    "    print(\"CSN::\",curr_sn)\n",
    "    for x in dc:\n",
    "        if(count[x] >= min_supp):\n",
    "            db.add(x)\n",
    "            count.pop(x)\n",
    "        elif(csn[x] == curr_sn):\n",
    "            sc.add(x)\n",
    "            count.pop(x)\n",
    "            csn.pop(x)\n",
    "    generator(db,sb,dc)\n",
    "    dc = dc.difference(db)\n",
    "    dc = dc.difference(sc)\n",
    "    print(\"DASHED BOX::\",db)\n",
    "    print(\"DASHED CIRCLE::\",dc)\n",
    "    print(\"stop numbers::\")\n",
    "    print(csn)\n",
    "    for x in db:\n",
    "        if csn[x] == curr_sn:\n",
    "            sb.add(x)\n",
    "            csn.pop(x)\n",
    "    db = db.difference(sb)\n",
    "    print(\"SOLID BOX::\",sb)\n",
    "    print(\"SOLID CIRCLE::\",sc)\n",
    "    print(\"DASHED BOX::\",db)\n",
    "    print(\"DASHED CIRCLE::\",dc)\n",
    "    left = (left+m)\n",
    "    right = (right+m)\n",
    "    #check the left value = no of transactions\n",
    "    if left >= 9:\n",
    "        left = 0\n",
    "        right = m"
   ]
  },
  {
   "cell_type": "code",
   "execution_count": 686,
   "metadata": {},
   "outputs": [],
   "source": [
    "for ind in range(left,min(right,9)):\n",
    "    l4 = df.iloc[ind].tolist()\n",
    "    l4 = \"\".join(l4)\n",
    "    l4 = l4.split(',')\n",
    "    for ele in sorted(dc):\n",
    "        l3 = ele.split(',')\n",
    "        #print(l3,l4)\n",
    "        if(set(l3).issubset(set(l4))):\n",
    "            count[ele] += 1"
   ]
  },
  {
   "cell_type": "code",
   "execution_count": 687,
   "metadata": {},
   "outputs": [
    {
     "name": "stdout",
     "output_type": "stream",
     "text": [
      "{'I1': 2, 'I2': 4, 'I3': 1, 'I4': 2, 'I5': 1}\n"
     ]
    }
   ],
   "source": [
    "print(count)"
   ]
  },
  {
   "cell_type": "code",
   "execution_count": 688,
   "metadata": {},
   "outputs": [
    {
     "name": "stdout",
     "output_type": "stream",
     "text": [
      "1\n"
     ]
    }
   ],
   "source": [
    "curr_sn +=1\n",
    "curr_sn = curr_sn%3\n",
    "print(curr_sn)"
   ]
  },
  {
   "cell_type": "code",
   "execution_count": 689,
   "metadata": {},
   "outputs": [
    {
     "name": "stdout",
     "output_type": "stream",
     "text": [
      "{'I2', 'I4', 'I1'}\n",
      "{'I1,I2', 'I1,I4', 'I5', 'I3', 'I2,I4'}\n"
     ]
    }
   ],
   "source": [
    "for x in dc:\n",
    "    if(count[x] >= min_supp):\n",
    "        db.add(x)\n",
    "        count.pop(x)\n",
    "    elif(csn[x] == curr_sn):\n",
    "        sc.add(x)\n",
    "        count.pop(x)\n",
    "generator(db,sb,dc)\n",
    "dc = dc.difference(db)\n",
    "dc = dc.difference(sc)\n",
    "print(db)\n",
    "print(dc)"
   ]
  },
  {
   "cell_type": "code",
   "execution_count": 671,
   "metadata": {},
   "outputs": [
    {
     "name": "stdout",
     "output_type": "stream",
     "text": [
      "{'I5', 'I3', 'I2,I5', 'I1,I2,I5', 'I2,I4', 'I1,I3', 'I2,I3', 'I1,I2', 'I2', 'I4', 'I1', 'I1,I2,I3', 'I1,I5'}\n",
      "set()\n"
     ]
    }
   ],
   "source": [
    "for x in db:\n",
    "    if csn[x] == curr_sn:\n",
    "        sb.add(x)\n",
    "db = db.difference(sb)\n",
    "print(sb)\n",
    "print(db)"
   ]
  },
  {
   "cell_type": "code",
   "execution_count": 672,
   "metadata": {},
   "outputs": [],
   "source": [
    "left += m\n",
    "right += m"
   ]
  },
  {
   "cell_type": "code",
   "execution_count": 564,
   "metadata": {},
   "outputs": [],
   "source": [
    "def generator(db,sb,dc):\n",
    "    sbUdb = db.union(sb)\n",
    "    l1 = list(sorted(sbUdb))\n",
    "    for x in range(len(l1)):\n",
    "        for y in range(x+1,len(l1)):\n",
    "            if (len(l1[x]) == len(l1[y])):\n",
    "                a = l1[x].split(',')\n",
    "                b = l1[y].split(',')\n",
    "                if (a[:-1] == b[:-1])&(a[-1] != b[-1]):\n",
    "                    #print(a[-1],b[-1])\n",
    "                    a.append(b[-1])\n",
    "                    c = ','.join(a)\n",
    "                    \n",
    "                    if c not in dc_bank:\n",
    "                        dc.add(c)\n",
    "                        dc_bank.add(c)\n",
    "                        csn[c] = curr_sn\n",
    "                        count[c] = 0\n",
    "                \n",
    "                    \n",
    "                "
   ]
  },
  {
   "cell_type": "code",
   "execution_count": 733,
   "metadata": {},
   "outputs": [
    {
     "name": "stdout",
     "output_type": "stream",
     "text": [
      "{'L0': 0, 'L1': 2, 'L2': 2, 'L3': 2, 'L4': 1, 'L5': 1, 'L6': 1, 'L7': 1, 'L8': 0}\n",
      "1\n",
      "DASHED BOX:: set()\n",
      "DASHED CIRCLE:: {'L3', 'L5', 'L1', 'L8', 'L0', 'L4', 'L6', 'L2', 'L7'}\n",
      "SOLID BOX set()\n",
      "SOLID CIRCLE set()\n",
      "DASHED BOX set()\n",
      "DASHED CIRCLE {'L3', 'L5', 'L1', 'L8', 'L0', 'L4', 'L6', 'L2', 'L7'}\n",
      "{'L0': 1, 'L1': 3, 'L2': 4, 'L3': 3, 'L4': 3, 'L5': 2, 'L6': 1, 'L7': 1, 'L8': 1}\n",
      "2\n",
      "DASHED BOX:: {'L2', 'L3', 'L4', 'L1'}\n",
      "DASHED CIRCLE:: {'L1,L4', 'L5', 'L8', 'L1,L3', 'L0', 'L6', 'L1,L2', 'L2,L3', 'L2,L4', 'L3,L4', 'L7'}\n",
      "SOLID BOX set()\n",
      "SOLID CIRCLE set()\n",
      "DASHED BOX {'L2', 'L3', 'L4', 'L1'}\n",
      "DASHED CIRCLE {'L1,L4', 'L5', 'L8', 'L1,L3', 'L0', 'L6', 'L1,L2', 'L2,L3', 'L2,L4', 'L3,L4', 'L7'}\n",
      "{'L0': 1, 'L5': 2, 'L6': 1, 'L7': 1, 'L8': 1, 'L1,L2': 1, 'L1,L3': 1, 'L1,L4': 0, 'L2,L3': 2, 'L2,L4': 0, 'L3,L4': 0}\n",
      "0\n",
      "DASHED BOX:: {'L2', 'L3', 'L4', 'L1'}\n",
      "DASHED CIRCLE:: {'L1,L4', 'L1,L3', 'L1,L2', 'L2,L3', 'L2,L4', 'L3,L4'}\n",
      "SOLID BOX {'L1', 'L2', 'L3', 'L4'}\n",
      "SOLID CIRCLE {'L5', 'L8', 'L0', 'L6', 'L7'}\n",
      "DASHED BOX set()\n",
      "DASHED CIRCLE {'L1,L4', 'L1,L3', 'L1,L2', 'L2,L3', 'L2,L4', 'L3,L4'}\n",
      "{'L1,L2': 3, 'L1,L3': 3, 'L1,L4': 1, 'L2,L3': 4, 'L2,L4': 1, 'L3,L4': 1}\n",
      "1\n",
      "DASHED BOX:: {'L1,L2', 'L2,L3', 'L1,L3'}\n",
      "DASHED CIRCLE:: {'L2,L4', 'L1,L2,L3', 'L1,L4', 'L3,L4'}\n",
      "SOLID BOX {'L1', 'L2', 'L3', 'L4'}\n",
      "SOLID CIRCLE {'L5', 'L8', 'L0', 'L6', 'L7'}\n",
      "DASHED BOX {'L1,L2', 'L2,L3', 'L1,L3'}\n",
      "DASHED CIRCLE {'L2,L4', 'L1,L2,L3', 'L1,L4', 'L3,L4'}\n",
      "{'L1,L4': 2, 'L2,L4': 3, 'L3,L4': 2, 'L1,L2,L3': 0}\n",
      "2\n",
      "DASHED BOX:: {'L2,L4', 'L1,L2', 'L2,L3', 'L1,L3'}\n",
      "DASHED CIRCLE:: {'L1,L2,L3', 'L2,L3,L4'}\n",
      "SOLID BOX {'L3', 'L1', 'L1,L3', 'L4', 'L1,L2', 'L2,L3', 'L2,L4', 'L2'}\n",
      "SOLID CIRCLE {'L5', 'L1,L4', 'L8', 'L0', 'L6', 'L3,L4', 'L7'}\n",
      "DASHED BOX set()\n",
      "DASHED CIRCLE {'L1,L2,L3', 'L2,L3,L4'}\n",
      "{'L1,L2,L3': 1, 'L2,L3,L4': 0}\n",
      "0\n",
      "DASHED BOX:: set()\n",
      "DASHED CIRCLE:: {'L1,L2,L3', 'L2,L3,L4'}\n",
      "SOLID BOX {'L3', 'L1', 'L1,L3', 'L4', 'L1,L2', 'L2,L3', 'L2,L4', 'L2'}\n",
      "SOLID CIRCLE {'L5', 'L1,L4', 'L8', 'L0', 'L6', 'L3,L4', 'L7'}\n",
      "DASHED BOX set()\n",
      "DASHED CIRCLE {'L1,L2,L3', 'L2,L3,L4'}\n",
      "{'L1,L2,L3': 3, 'L2,L3,L4': 1}\n",
      "1\n",
      "DASHED BOX:: {'L1,L2,L3'}\n",
      "DASHED CIRCLE:: {'L2,L3,L4'}\n",
      "SOLID BOX {'L1,L2,L3', 'L3', 'L1', 'L1,L3', 'L4', 'L1,L2', 'L2,L3', 'L2,L4', 'L2'}\n",
      "SOLID CIRCLE {'L5', 'L1,L4', 'L8', 'L0', 'L6', 'L3,L4', 'L7'}\n",
      "DASHED BOX set()\n",
      "DASHED CIRCLE {'L2,L3,L4'}\n",
      "{'L2,L3,L4': 2}\n",
      "2\n",
      "DASHED BOX:: set()\n",
      "DASHED CIRCLE:: set()\n",
      "SOLID BOX {'L1,L2,L3', 'L3', 'L1', 'L1,L3', 'L4', 'L1,L2', 'L2,L3', 'L2,L4', 'L2'}\n",
      "SOLID CIRCLE {'L5', 'L1,L4', 'L8', 'L0', 'L6', 'L2,L3,L4', 'L3,L4', 'L7'}\n",
      "DASHED BOX set()\n",
      "DASHED CIRCLE set()\n"
     ]
    }
   ],
   "source": [
    "while dc:\n",
    "    for ind in range(left,min(right,6)):\n",
    "        l4 = df.iloc[ind].tolist()\n",
    "        l4 = \"\".join(l4)\n",
    "        l4 = l4.split(',')\n",
    "        for ele in sorted(dc):\n",
    "            l3 = ele.split(',')\n",
    "            #print(l3,l4)\n",
    "            if(set(l3).issubset(set(l4))):\n",
    "                count[ele] += 1\n",
    "    print(count)\n",
    "    curr_sn +=1\n",
    "    #ALWAYS CHECK THE MOD!!\n",
    "    curr_sn = curr_sn%3\n",
    "    print(curr_sn)\n",
    "    for x in dc:\n",
    "        if(count[x] >= min_supp):\n",
    "            db.add(x)\n",
    "            count.pop(x)\n",
    "        elif(csn[x] == curr_sn):\n",
    "            sc.add(x)\n",
    "            count.pop(x)\n",
    "    generator(db,sb,dc)\n",
    "    dc = dc.difference(db)\n",
    "    dc = dc.difference(sc)\n",
    "    print(\"DASHED BOX::\",db)\n",
    "    print(\"DASHED CIRCLE::\",dc)\n",
    "    for x in db:\n",
    "        if csn[x] == curr_sn:\n",
    "            sb.add(x)\n",
    "    db = db.difference(sb)\n",
    "    print(\"SOLID BOX::,sb)\n",
    "    print(\"SOLID CIRCLE::\",sc)\n",
    "    print(\"DASHED BOX::\",db)\n",
    "    print(\"DASHED CIRCLE::\",dc)\n",
    "    left = (left+m)\n",
    "    right = (right+m)\n",
    "    if left >= 6:\n",
    "        left = 0\n",
    "        right = m"
   ]
  },
  {
   "cell_type": "code",
   "execution_count": null,
   "metadata": {},
   "outputs": [],
   "source": []
  }
 ],
 "metadata": {
  "kernelspec": {
   "display_name": "Python 3",
   "language": "python",
   "name": "python3"
  },
  "language_info": {
   "codemirror_mode": {
    "name": "ipython",
    "version": 3
   },
   "file_extension": ".py",
   "mimetype": "text/x-python",
   "name": "python",
   "nbconvert_exporter": "python",
   "pygments_lexer": "ipython3",
   "version": "3.7.3"
  }
 },
 "nbformat": 4,
 "nbformat_minor": 2
}
